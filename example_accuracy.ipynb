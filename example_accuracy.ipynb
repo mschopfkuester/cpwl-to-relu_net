{
 "cells": [
  {
   "cell_type": "code",
   "execution_count": 1,
   "id": "2459b4c2-3be9-46b1-b658-eca50546a11b",
   "metadata": {},
   "outputs": [],
   "source": [
    "import create_deep_network\n",
    "import S_to_neural_net\n",
    "import numpy as np\n",
    "import random"
   ]
  },
  {
   "cell_type": "markdown",
   "id": "f13afa39-a93c-4bed-966d-0c75c72b0a42",
   "metadata": {},
   "source": [
    "# Initialize CPwL function and W"
   ]
  },
  {
   "cell_type": "code",
   "execution_count": 2,
   "id": "c4094547-0fd3-4738-8d38-2fbb6d5d0afe",
   "metadata": {},
   "outputs": [],
   "source": [
    "n=8000\n",
    "breakpoints=np.sort(np.array([random.randint(1,1000000000)/1000000000 for _ in range((n))]))\n",
    "y_breakpoints=np.array([random.randint(-3000,3000)/1000 for _ in range((n))])\n",
    "breakpoints[0],breakpoints[-1]=0,1\n",
    "W=20"
   ]
  },
  {
   "cell_type": "markdown",
   "id": "9486b62a-906b-4e17-85dc-6b9f60a98c48",
   "metadata": {},
   "source": [
    "# Compute weight matrices and bias vectors"
   ]
  },
  {
   "cell_type": "code",
   "execution_count": 3,
   "id": "e2a8ace5-a638-4ca1-a58d-832209221170",
   "metadata": {},
   "outputs": [],
   "source": [
    "M,bias=create_deep_network.create_deep_neural_net(breakpoints,y_breakpoints,W)"
   ]
  },
  {
   "cell_type": "markdown",
   "id": "f2109b71-a1d6-4005-8876-6d727919ee8d",
   "metadata": {},
   "source": [
    "# Compute mean squared error between CPwL function and neural net"
   ]
  },
  {
   "cell_type": "code",
   "execution_count": 4,
   "id": "ac513cb9-00c0-409e-99ce-d1dd17cab2fd",
   "metadata": {},
   "outputs": [
    {
     "name": "stdout",
     "output_type": "stream",
     "text": [
      "Mean squared error: 1.6474692013074083e-16\n"
     ]
    }
   ],
   "source": [
    "breaks,weight,a,b=S_to_neural_net.Sk_spline_interpolation([(breakpoints,y_breakpoints)])[0]\n",
    "m=2000 # number of points\n",
    "\n",
    "c=0\n",
    "for x in np.array([random.randint(1,1000000)/1000000 for _ in range((m))]):\n",
    "    c+=(create_deep_network.neural_deep(x,M,bias)-create_deep_network.evaluation_cpwl_basis_splines(x,breaks,weight,a,b))**2\n",
    "    #print(create_deep_network.neural_deep(x,M,bias)-create_deep_network.evaluation_cpwl_basis_splines(x,breaks,weight,a,b))\n",
    "print('Mean squared error:',c/m)"
   ]
  }
 ],
 "metadata": {
  "kernelspec": {
   "display_name": "Python 3 (ipykernel)",
   "language": "python",
   "name": "python3"
  },
  "language_info": {
   "codemirror_mode": {
    "name": "ipython",
    "version": 3
   },
   "file_extension": ".py",
   "mimetype": "text/x-python",
   "name": "python",
   "nbconvert_exporter": "python",
   "pygments_lexer": "ipython3",
   "version": "3.10.5"
  }
 },
 "nbformat": 4,
 "nbformat_minor": 5
}
